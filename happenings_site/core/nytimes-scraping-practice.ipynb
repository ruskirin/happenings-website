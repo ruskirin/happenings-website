{
 "cells": [
  {
   "cell_type": "code",
   "execution_count": 1,
   "id": "0cb22c25",
   "metadata": {},
   "outputs": [],
   "source": [
    "import scrapy\n",
    "from scrapy.item import Item, Field\n",
    "from scrapy.loader import ItemLoader\n",
    "from scrapy.crawler import CrawlerRunner\n",
    "from twisted.internet import reactor"
   ]
  },
  {
   "cell_type": "code",
   "execution_count": 2,
   "id": "b0cfbad8",
   "metadata": {},
   "outputs": [],
   "source": [
    "class ArticleItem(Item):\n",
    "    date = Field()\n",
    "    url = Field()\n",
    "    title = Field()\n",
    "    desc = Field()\n",
    "    author = Field()"
   ]
  },
  {
   "cell_type": "code",
   "execution_count": 3,
   "id": "43b74c99",
   "metadata": {},
   "outputs": [],
   "source": [
    "class ArticleSpider(scrapy.Spider):\n",
    "    name = 'article'\n",
    "    \n",
    "    def start_requests(self):\n",
    "        urls = ['https://www.nytimes.com/section/world',]\n",
    "        \n",
    "        for url in urls:\n",
    "            yield scrapy.Request(url=url, callback=self.parse)\n",
    "        \n",
    "    \n",
    "    def parse(self, response):\n",
    "        load = ItemLoader(item=ArticleItem(), response=response)\n",
    "        recent_articles = response.xpath('//section[@id=\"stream-panel\"]//ol/li/div')\n",
    "        \n",
    "        for article in recent_articles:\n",
    "            content = article.xpath('div[1]/a')\n",
    "            \n",
    "            load.add_xpath('date', article.xpath('div[2]/span/text()').get())\n",
    "            load.add_xpath('url', 'https://www.nytimes.com/' + content.xpath('@href').get())\n",
    "            load.add_xpath('title', content.xpath('h2/text()').get())\n",
    "            load.add_xpath('desc', content.xpath('p/text()').get())\n",
    "            load.add_xpath('author', content.xpath('//p[contains(text(), \"By\")]/span/text()').get())\n",
    "            \n",
    "            yield load.load_item()"
   ]
  },
  {
   "cell_type": "code",
   "execution_count": 4,
   "id": "87635a9e",
   "metadata": {},
   "outputs": [
    {
     "name": "stderr",
     "output_type": "stream",
     "text": [
      "/home/rimov/anaconda3/envs/proj_happenings/lib/python3.10/site-packages/scrapy/utils/request.py:231: ScrapyDeprecationWarning: '2.6' is a deprecated value for the 'REQUEST_FINGERPRINTER_IMPLEMENTATION' setting.\n",
      "\n",
      "It is also the default value. In other words, it is normal to get this warning if you have not defined a value for the 'REQUEST_FINGERPRINTER_IMPLEMENTATION' setting. This is so for backward compatibility reasons, but it will change in a future version of Scrapy.\n",
      "\n",
      "See the documentation of the 'REQUEST_FINGERPRINTER_IMPLEMENTATION' setting for information on how to handle this deprecation.\n",
      "  return cls(crawler)\n"
     ]
    },
    {
     "data": {
      "text/plain": [
       "<Deferred at 0x7fa8c4161090>"
      ]
     },
     "execution_count": 4,
     "metadata": {},
     "output_type": "execute_result"
    }
   ],
   "source": [
    "runner = CrawlerRunner(settings={\n",
    "    'FEED_EXPORT_ENCODING': 'utf-8',\n",
    "    'FEEDS': {'sample.json': {'format': 'json'}}\n",
    "})\n",
    "d = runner.crawl(ArticleSpider)\n",
    "d.addBoth(lambda _: reactor.stop())"
   ]
  },
  {
   "cell_type": "code",
   "execution_count": 5,
   "id": "a5253598",
   "metadata": {},
   "outputs": [],
   "source": [
    "reactor.run()"
   ]
  },
  {
   "cell_type": "code",
   "execution_count": null,
   "id": "55dc663e",
   "metadata": {},
   "outputs": [],
   "source": []
  }
 ],
 "metadata": {
  "kernelspec": {
   "display_name": "Python 3 (ipykernel)",
   "language": "python",
   "name": "python3"
  },
  "language_info": {
   "codemirror_mode": {
    "name": "ipython",
    "version": 3
   },
   "file_extension": ".py",
   "mimetype": "text/x-python",
   "name": "python",
   "nbconvert_exporter": "python",
   "pygments_lexer": "ipython3",
   "version": "3.10.8"
  }
 },
 "nbformat": 4,
 "nbformat_minor": 5
}
